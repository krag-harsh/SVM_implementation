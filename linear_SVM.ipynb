{
  "nbformat": 4,
  "nbformat_minor": 0,
  "metadata": {
    "colab": {
      "name": "linear_SVM.ipynb",
      "provenance": [],
      "collapsed_sections": []
    },
    "kernelspec": {
      "name": "python3",
      "display_name": "Python 3"
    }
  },
  "cells": [
    {
      "cell_type": "code",
      "metadata": {
        "id": "ww9UWe95dAmP",
        "colab_type": "code",
        "colab": {
          "base_uri": "https://localhost:8080/",
          "height": 235
        },
        "outputId": "2e6e1459-b7d0-4911-8477-0ae048a11748"
      },
      "source": [
        "import numpy as np\n",
        "\n",
        "\n",
        "class SVM:\n",
        "    def __init__(self, X, y, num_of_epochs, lr, C):\n",
        "\n",
        "        self.X = X\n",
        "        self.y = y\n",
        "        self.num_of_epochs = num_of_epochs\n",
        "        self.lr = lr\n",
        "        self.C = C\n",
        "\n",
        "        # Add column vector of ones for computational convenience\n",
        "        self.X = np.column_stack((np.ones(len(X)), X))\n",
        "\n",
        "        # Initialize normal vector\n",
        "        self.w = np.ones(len(self.X[0]))\n",
        "\n",
        "    def distances(self, w, with_lagrange=True):\n",
        "        distances = self.y * (np.dot(self.X, w)) - 1\n",
        "\n",
        "        # get distance from the current decision boundary\n",
        "        # by considering 1 width of margin\n",
        "\n",
        "        if with_lagrange:  # if lagrange multiplier considered\n",
        "            # if distance is more than 0\n",
        "            # sample is not on the support vector\n",
        "            # Lagrange multiplier will be 0\n",
        "            distances[distances > 0] = 0\n",
        "\n",
        "        return distances\n",
        "\n",
        "    def get_cost_grads(self, X, w, y):\n",
        "\n",
        "        distances = self.distances(w)\n",
        "\n",
        "        # Get current cost\n",
        "        L = 1 / 2 * np.dot(w, w) - self.C * np.sum(distances)\n",
        "\n",
        "        dw = np.zeros(len(w))\n",
        "\n",
        "        for ind, d in enumerate(distances):\n",
        "            if d == 0:  # if sample is not on the support vector\n",
        "                di = w  # (alpha * y[ind] * X[ind]) = 0\n",
        "            else:\n",
        "                # (alpha * y[ind] * X[ind]) = y[ind] * X[ind]\n",
        "                di = w - (self.C * y[ind] * X[ind])\n",
        "            dw += di\n",
        "        return L, dw / len(X)\n",
        "\n",
        "    def fit(self):\n",
        "        for i in range(self.num_of_epochs):\n",
        "            L, dw = self.get_cost_grads(self.X, self.w, self.y)\n",
        "            self.w = self.w - self.lr * dw\n",
        "            if i % 1000 == 0:\n",
        "                print(i, ' | ', L)\n",
        "\n",
        "    def predict(self, X):\n",
        "        X = np.column_stack((np.ones(len(X)), X))\n",
        "        return np.sign(X @ self.w)\n",
        "\n",
        "\n",
        "#data = np.genfromtxt('files/data.csv', dtype=float, delimiter=',')\n",
        "# data_dict = {-1:np.array([[1,7],[2,8],[3,8]]),1:np.array([[5,1],[6,-1],[7,3]])}\n",
        "\n",
        "np.random.shuffle(data)\n",
        "\n",
        "train_y = data[:, 0]\n",
        "train_x = data[:, 1:]\n",
        "\n",
        "clf = SVM(train_x, train_y, num_of_epochs=10000, lr=1e-3, C=30)\n",
        "clf.fit()\n",
        "\n",
        "p = clf.predict(train_x)\n",
        "p = p - train_y.flatten()\n",
        "\n",
        "# Prediction accuracy should be 1.0 for the training set\n",
        "print(\"Accuracy |\", len(np.where(p == 0)[0]) / len(p))\n"
      ],
      "execution_count": 2,
      "outputs": [
        {
          "output_type": "error",
          "ename": "NameError",
          "evalue": "ignored",
          "traceback": [
            "\u001b[0;31m---------------------------------------------------------------------------\u001b[0m",
            "\u001b[0;31mNameError\u001b[0m                                 Traceback (most recent call last)",
            "\u001b[0;32m<ipython-input-2-46e7e95b5686>\u001b[0m in \u001b[0;36m<module>\u001b[0;34m()\u001b[0m\n\u001b[1;32m     64\u001b[0m \u001b[0mdata_dict\u001b[0m \u001b[0;34m=\u001b[0m \u001b[0;34m{\u001b[0m\u001b[0;34m-\u001b[0m\u001b[0;36m1\u001b[0m\u001b[0;34m:\u001b[0m\u001b[0mnp\u001b[0m\u001b[0;34m.\u001b[0m\u001b[0marray\u001b[0m\u001b[0;34m(\u001b[0m\u001b[0;34m[\u001b[0m\u001b[0;34m[\u001b[0m\u001b[0;36m1\u001b[0m\u001b[0;34m,\u001b[0m\u001b[0;36m7\u001b[0m\u001b[0;34m]\u001b[0m\u001b[0;34m,\u001b[0m\u001b[0;34m[\u001b[0m\u001b[0;36m2\u001b[0m\u001b[0;34m,\u001b[0m\u001b[0;36m8\u001b[0m\u001b[0;34m]\u001b[0m\u001b[0;34m,\u001b[0m\u001b[0;34m[\u001b[0m\u001b[0;36m3\u001b[0m\u001b[0;34m,\u001b[0m\u001b[0;36m8\u001b[0m\u001b[0;34m]\u001b[0m\u001b[0;34m]\u001b[0m\u001b[0;34m)\u001b[0m\u001b[0;34m,\u001b[0m\u001b[0;36m1\u001b[0m\u001b[0;34m:\u001b[0m\u001b[0mnp\u001b[0m\u001b[0;34m.\u001b[0m\u001b[0marray\u001b[0m\u001b[0;34m(\u001b[0m\u001b[0;34m[\u001b[0m\u001b[0;34m[\u001b[0m\u001b[0;36m5\u001b[0m\u001b[0;34m,\u001b[0m\u001b[0;36m1\u001b[0m\u001b[0;34m]\u001b[0m\u001b[0;34m,\u001b[0m\u001b[0;34m[\u001b[0m\u001b[0;36m6\u001b[0m\u001b[0;34m,\u001b[0m\u001b[0;34m-\u001b[0m\u001b[0;36m1\u001b[0m\u001b[0;34m]\u001b[0m\u001b[0;34m,\u001b[0m\u001b[0;34m[\u001b[0m\u001b[0;36m7\u001b[0m\u001b[0;34m,\u001b[0m\u001b[0;36m3\u001b[0m\u001b[0;34m]\u001b[0m\u001b[0;34m]\u001b[0m\u001b[0;34m)\u001b[0m\u001b[0;34m}\u001b[0m\u001b[0;34m\u001b[0m\u001b[0;34m\u001b[0m\u001b[0m\n\u001b[1;32m     65\u001b[0m \u001b[0;34m\u001b[0m\u001b[0m\n\u001b[0;32m---> 66\u001b[0;31m \u001b[0mnp\u001b[0m\u001b[0;34m.\u001b[0m\u001b[0mrandom\u001b[0m\u001b[0;34m.\u001b[0m\u001b[0mshuffle\u001b[0m\u001b[0;34m(\u001b[0m\u001b[0mdata\u001b[0m\u001b[0;34m)\u001b[0m\u001b[0;34m\u001b[0m\u001b[0;34m\u001b[0m\u001b[0m\n\u001b[0m\u001b[1;32m     67\u001b[0m \u001b[0;34m\u001b[0m\u001b[0m\n\u001b[1;32m     68\u001b[0m \u001b[0mtrain_y\u001b[0m \u001b[0;34m=\u001b[0m \u001b[0mdata\u001b[0m\u001b[0;34m[\u001b[0m\u001b[0;34m:\u001b[0m\u001b[0;34m,\u001b[0m \u001b[0;36m0\u001b[0m\u001b[0;34m]\u001b[0m\u001b[0;34m\u001b[0m\u001b[0;34m\u001b[0m\u001b[0m\n",
            "\u001b[0;31mNameError\u001b[0m: name 'data' is not defined"
          ]
        }
      ]
    },
    {
      "cell_type": "code",
      "metadata": {
        "id": "qhS8RuRGdlff",
        "colab_type": "code",
        "colab": {}
      },
      "source": [
        ""
      ],
      "execution_count": null,
      "outputs": []
    }
  ]
}