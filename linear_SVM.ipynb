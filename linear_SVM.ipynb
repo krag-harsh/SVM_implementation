{
  "nbformat": 4,
  "nbformat_minor": 0,
  "metadata": {
    "colab": {
      "name": "linear_SVM.ipynb",
      "provenance": [],
      "collapsed_sections": []
    },
    "kernelspec": {
      "name": "python3",
      "display_name": "Python 3"
    }
  },
  "cells": [
    {
      "cell_type": "code",
      "metadata": {
        "id": "qhS8RuRGdlff",
        "colab_type": "code",
        "colab": {}
      },
      "source": [
        "import numpy as np\n",
        "import matplotlib.pyplot as plt"
      ],
      "execution_count": 15,
      "outputs": []
    },
    {
      "cell_type": "code",
      "metadata": {
        "id": "rBsGQXzagAFz",
        "colab_type": "code",
        "colab": {}
      },
      "source": [
        "def distances(X,y, w, with_lagrange=True):\n",
        "    #considering 1 width of margin\n",
        "        distances = y * (np.dot(X, w)) - 1\n",
        "      \n",
        "\n",
        "        if with_lagrange:  # if lagrange multiplier considered\n",
        "            # if distance is more than 0\n",
        "            # sample is not on the support vector\n",
        "            # Lagrange multiplier will be 0\n",
        "            distances[distances > 0] = 0\n",
        "\n",
        "        return distances"
      ],
      "execution_count": 16,
      "outputs": []
    },
    {
      "cell_type": "code",
      "metadata": {
        "id": "ka_TiNPXgLvV",
        "colab_type": "code",
        "colab": {}
      },
      "source": [
        "def get_cost_grads(X, w, y,C):\n",
        "\n",
        "        distances_d = distances(X,y,w)\n",
        "        dw = np.zeros(len(w))\n",
        "\n",
        "        for ind, d in enumerate(distances_d):\n",
        "            if d == 0:  # if sample is not on the support vector\n",
        "                di = w  # (alpha * y[ind] * X[ind]) = 0\n",
        "            else:\n",
        "                # (alpha * y[ind] * X[ind]) = y[ind] * X[ind]\n",
        "                di = w - (C * y[ind] * X[ind])\n",
        "            dw += di\n",
        "        return  dw / len(X)"
      ],
      "execution_count": 17,
      "outputs": []
    },
    {
      "cell_type": "code",
      "metadata": {
        "id": "s50o0NsZgjs1",
        "colab_type": "code",
        "colab": {}
      },
      "source": [
        "\n",
        "def fit(num_of_epochs,X, w, y,C,lr):\n",
        "        for i in range(num_of_epochs):\n",
        "            dw = get_cost_grads(X, w, y,C)\n",
        "            w = w - lr * dw\n",
        "            if i % 1000 == 0:\n",
        "              distances_d = distances(X,y,w)\n",
        "              # Get current cost\n",
        "              L = 1 / 2 * np.dot(w, w) - C * np.sum(distances_d)\n",
        "              print(i, ' | ', L)\n",
        "        print(\"\\nFinal value of weight:\\n\",w)\n",
        "        return w"
      ],
      "execution_count": 18,
      "outputs": []
    },
    {
      "cell_type": "code",
      "metadata": {
        "id": "ZpnQXH8zg764",
        "colab_type": "code",
        "colab": {}
      },
      "source": [
        "def predict(X,w):\n",
        "  return np.sign(X @ w)"
      ],
      "execution_count": 19,
      "outputs": []
    },
    {
      "cell_type": "code",
      "metadata": {
        "id": "Vml0MSc1hD1q",
        "colab_type": "code",
        "colab": {
          "base_uri": "https://localhost:8080/",
          "height": 518
        },
        "outputId": "4b1687ac-a150-414f-dbf6-4533dc154c83"
      },
      "source": [
        "si = 50    #size of the data set we are creating\n",
        "x1 = np.random.multivariate_normal([0, 0], [[1, .75],[.75, 1]], si)\n",
        "x2 = np.random.multivariate_normal([2, 6], [[1, .75],[.75, 1]], si)\n",
        "\n",
        "print(\"dimension of x1 = x2 =\",x1.shape)\n",
        "sfeature=np.vstack((x1, x2)).astype(np.float32)     #concatinates axis 0\n",
        "slabel=np.hstack((np.zeros(si), np.ones(si)))  \n",
        "\n",
        "\n",
        "plt.figure(figsize=(12,8))\n",
        "plt.scatter(sfeature[:, 0], sfeature[:, 1], c = slabel, alpha = .4)"
      ],
      "execution_count": 20,
      "outputs": [
        {
          "output_type": "stream",
          "text": [
            "dimension of x1 = x2 = (50, 2)\n"
          ],
          "name": "stdout"
        },
        {
          "output_type": "execute_result",
          "data": {
            "text/plain": [
              "<matplotlib.collections.PathCollection at 0x7f2017930be0>"
            ]
          },
          "metadata": {
            "tags": []
          },
          "execution_count": 20
        },
        {
          "output_type": "display_data",
          "data": {
            "image/png": "[encoded data removed]",
            "text/plain": [
              "<Figure size 864x576 with 1 Axes>"
            ]
          },
          "metadata": {
            "tags": [],
            "needs_background": "light"
          }
        }
      ]
    },
    {
      "cell_type": "code",
      "metadata": {
        "id": "LCjivLdYkPDe",
        "colab_type": "code",
        "colab": {
          "base_uri": "https://localhost:8080/",
          "height": 243
        },
        "outputId": "eb9dd3ed-c73a-4c0a-d489-500a67aa5592"
      },
      "source": [
        "X = np.column_stack((np.ones(len(sfeature)), sfeature)) \n",
        "w = np.zeros(len(X[0]))\n",
        "\n",
        "\n",
        "w=fit(10000, X , w , slabel , C=30 , lr=1e-3)\n"
      ],
      "execution_count": 25,
      "outputs": [
        {
          "output_type": "stream",
          "text": [
            "0  |  2011.5913491495967\n",
            "1000  |  1500.0249135220645\n",
            "2000  |  1500.0388655802003\n",
            "3000  |  1500.0249148691282\n",
            "4000  |  1500.024790371758\n",
            "5000  |  1500.0249662055967\n",
            "6000  |  1500.0248421223555\n",
            "7000  |  1500.0515253635926\n",
            "8000  |  1500.0248941051618\n",
            "9000  |  1500.0247695194844\n",
            "\n",
            "Final value of weight:\n",
            " [0.04975684 0.04722834 0.21280519]\n"
          ],
          "name": "stdout"
        }
      ]
    },
    {
      "cell_type": "code",
      "metadata": {
        "id": "MSYxsFUSndNm",
        "colab_type": "code",
        "colab": {
          "base_uri": "https://localhost:8080/",
          "height": 35
        },
        "outputId": "29540a61-3768-4776-8495-3b39aaa2503f"
      },
      "source": [
        "p=X@w\n",
        "p=np.sign(p)\n",
        "p[p==-1]=0\n",
        "p-=slabel.flatten()\n",
        "\n",
        "print(\"Accuracy |\", len(np.where(p == 0)[0]) / len(p))"
      ],
      "execution_count": 26,
      "outputs": [
        {
          "output_type": "stream",
          "text": [
            "Accuracy | 0.68\n"
          ],
          "name": "stdout"
        }
      ]
    },
    {
      "cell_type": "code",
      "metadata": {
        "id": "LK0ssBJz0qz9",
        "colab_type": "code",
        "colab": {}
      },
      "source": [
        ""
      ],
      "execution_count": 22,
      "outputs": []
    }
  ]
}