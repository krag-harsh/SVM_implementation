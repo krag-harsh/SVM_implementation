{
  "nbformat": 4,
  "nbformat_minor": 0,
  "metadata": {
    "colab": {
      "name": "SVM.ipynb",
      "provenance": [],
      "collapsed_sections": []
    },
    "kernelspec": {
      "name": "python3",
      "display_name": "Python 3"
    }
  },
  "cells": [
    {
      "cell_type": "code",
      "metadata": {
        "id": "BUUGVbaMh33t",
        "colab_type": "code",
        "colab": {}
      },
      "source": [
        "import numpy as np"
      ],
      "execution_count": 1,
      "outputs": []
    },
    {
      "cell_type": "code",
      "metadata": {
        "id": "WGaSYoFdiL1l",
        "colab_type": "code",
        "colab": {
          "base_uri": "https://localhost:8080/",
          "height": 87
        },
        "outputId": "021e1d43-89dd-4774-8e7f-01caab187d25"
      },
      "source": [
        "# from sklearn import svm\n",
        "# X = [[0, 0], [2, 2]]\n",
        "# y = [0.5, 2.5]\n",
        "# regr = svm.SVR()\n",
        "# regr.fit(X, y)\n",
        "\n",
        "# regr.predict([[1, 1]])\n",
        "\n",
        "\n",
        "from sklearn import svm\n",
        "X = [[0, 0], [1, 1]]\n",
        "y = [0, 1]\n",
        "clf = svm.SVC()\n",
        "clf.fit(X, y)\n"
      ],
      "execution_count": 2,
      "outputs": [
        {
          "output_type": "execute_result",
          "data": {
            "text/plain": [
              "SVC(C=1.0, break_ties=False, cache_size=200, class_weight=None, coef0=0.0,\n",
              "    decision_function_shape='ovr', degree=3, gamma='scale', kernel='rbf',\n",
              "    max_iter=-1, probability=False, random_state=None, shrinking=True,\n",
              "    tol=0.001, verbose=False)"
            ]
          },
          "metadata": {
            "tags": []
          },
          "execution_count": 2
        }
      ]
    },
    {
      "cell_type": "code",
      "metadata": {
        "id": "tnHGLkFkiZ17",
        "colab_type": "code",
        "colab": {
          "base_uri": "https://localhost:8080/",
          "height": 35
        },
        "outputId": "a2b137ca-a89c-46fe-8c6a-4fc783303f40"
      },
      "source": [
        "clf.predict([[2., 2.]])  "
      ],
      "execution_count": 3,
      "outputs": [
        {
          "output_type": "execute_result",
          "data": {
            "text/plain": [
              "array([1])"
            ]
          },
          "metadata": {
            "tags": []
          },
          "execution_count": 3
        }
      ]
    },
    {
      "cell_type": "code",
      "metadata": {
        "id": "pJG4oa-ai8Iq",
        "colab_type": "code",
        "colab": {
          "base_uri": "https://localhost:8080/",
          "height": 283
        },
        "outputId": "bd54d92d-cc36-4cca-96dc-335baad6e997"
      },
      "source": [
        "import numpy as np\n",
        "#to plot our data and model visually\n",
        "from matplotlib import pyplot as plt\n",
        "%matplotlib inline\n",
        "\n",
        "#Step 1 - Define our data\n",
        "\n",
        "#Input data - Of the form [X value, Y value, Bias term]\n",
        "X = np.array([\n",
        "    [-2,4,-1],\n",
        "    [4,1,-1],\n",
        "    [1, 6, -1],\n",
        "    [2, 4, -1],\n",
        "    [6, 2, -1],\n",
        "])\n",
        "\n",
        "#Associated output labels - First 2 examples are labeled '-1' and last 3 are labeled '+1'\n",
        "y = np.array([-1,-1,1,1,1])\n",
        "\n",
        "#lets plot these examples on a 2D graph!\n",
        "#for each example\n",
        "for d, sample in enumerate(X):\n",
        "    # Plot the negative samples (the first 2)\n",
        "    if d < 2:\n",
        "        plt.scatter(sample[0], sample[1], s=120, marker='_', linewidths=2)\n",
        "    # Plot the positive samples (the last 3)\n",
        "    else:\n",
        "        plt.scatter(sample[0], sample[1], s=120, marker='+', linewidths=2)\n",
        "\n",
        "# Print a possible hyperplane, that is seperating the two classes.\n",
        "#we'll two points and draw the line between them (naive guess)\n",
        "plt.plot([-2,6],[6,0.5])"
      ],
      "execution_count": 4,
      "outputs": [
        {
          "output_type": "execute_result",
          "data": {
            "text/plain": [
              "[<matplotlib.lines.Line2D at 0x7f475a2f8f60>]"
            ]
          },
          "metadata": {
            "tags": []
          },
          "execution_count": 4
        },
        {
          "output_type": "display_data",
          "data": {
            "image/png": "[encoded data removed]",
            "text/plain": [
              "<Figure size 432x288 with 1 Axes>"
            ]
          },
          "metadata": {
            "tags": [],
            "needs_background": "light"
          }
        }
      ]
    },
    {
      "cell_type": "code",
      "metadata": {
        "id": "v-4mvvp2rVt1",
        "colab_type": "code",
        "colab": {}
      },
      "source": [
        "#w = np.zeros(len(X[0]))\n",
        "def svm_sgd_plot(X, Y):\n",
        "    #Initialize our SVMs weight vector with zeros (3 values)\n",
        "    #w = np.zeros(len(X[0]))\n",
        "    w = np.zeros(X[0].size)\n",
        "    #The learning rate\n",
        "    eta = 1\n",
        "    #how many iterations to train for\n",
        "    epochs = 100000\n",
        "    #store misclassifications so we can plot how they change over time\n",
        "    errors = []\n",
        "\n",
        "    #training part, gradient descent part\n",
        "    for epoch in range(1,epochs):\n",
        "        error = 0\n",
        "        for i, x in enumerate(X):\n",
        "            #misclassification\n",
        "            if (Y[i]*np.dot(X[i], w)) < 1:\n",
        "                #misclassified update for ours weights\n",
        "                w = w + eta * ( (X[i] * Y[i]) + (-2  *(1/epoch)* w) )\n",
        "                error = 1\n",
        "            else:\n",
        "                #correct classification, update our weights\n",
        "                w = w + eta * (-2  *(1/epoch)* w)\n",
        "        errors.append(error)\n",
        "        \n",
        "\n",
        "    #lets plot the rate of classification errors during training for our SVM\n",
        "    plt.plot(errors, '|')\n",
        "    plt.ylim(0.5,1.5)\n",
        "    plt.axes().set_yticklabels([])\n",
        "    plt.xlabel('Epoch')\n",
        "    plt.ylabel('Misclassified')\n",
        "    plt.show()\n",
        "    \n",
        "    return w"
      ],
      "execution_count": 9,
      "outputs": []
    },
    {
      "cell_type": "code",
      "metadata": {
        "id": "HasV8K-DrZTD",
        "colab_type": "code",
        "colab": {
          "base_uri": "https://localhost:8080/",
          "height": 582
        },
        "outputId": "632cae4b-6a71-44a5-cbfb-0be11785c249"
      },
      "source": [
        "for d, sample in enumerate(X):\n",
        "    # Plot the negative samples\n",
        "    if d < 2:\n",
        "        plt.scatter(sample[0], sample[1], s=120, marker='_', linewidths=2)\n",
        "    # Plot the positive samples\n",
        "    else:\n",
        "        plt.scatter(sample[0], sample[1], s=120, marker='+', linewidths=2)\n",
        "\n",
        "# Add our test samples\n",
        "plt.scatter(2,2, s=120, marker='_', linewidths=2, color='yellow')\n",
        "plt.scatter(4,3, s=120, marker='+', linewidths=2, color='blue')\n",
        "w = svm_sgd_plot(X,y)\n",
        "# Print the hyperplane calculated by svm_sgd()\n",
        "x2=[w[0],w[1],-w[1],w[0]]\n",
        "x3=[w[0],w[1],w[1],-w[0]]\n",
        "\n",
        "x2x3 =np.array([x2,x3])\n",
        "X,Y,U,V = zip(*x2x3)\n",
        "ax = plt.gca()\n",
        "ax.quiver(X,Y,U,V,scale=1, color='blue')"
      ],
      "execution_count": 6,
      "outputs": [
        {
          "output_type": "stream",
          "text": [
            "/usr/local/lib/python3.6/dist-packages/ipykernel_launcher.py:30: MatplotlibDeprecationWarning: Adding an axes using the same arguments as a previous axes currently reuses the earlier instance.  In a future version, a new instance will always be created and returned.  Meanwhile, this warning can be suppressed, and the future behavior ensured, by passing a unique label to each axes instance.\n"
          ],
          "name": "stderr"
        },
        {
          "output_type": "display_data",
          "data": {
            "image/png": "[encoded data removed]",
            "text/plain": [
              "<Figure size 432x288 with 1 Axes>"
            ]
          },
          "metadata": {
            "tags": [],
            "needs_background": "light"
          }
        },
        {
          "output_type": "execute_result",
          "data": {
            "text/plain": [
              "<matplotlib.quiver.Quiver at 0x7f474cf00278>"
            ]
          },
          "metadata": {
            "tags": []
          },
          "execution_count": 6
        },
        {
          "output_type": "display_data",
          "data": {
            "image/png": "[encoded data removed]",
            "text/plain": [
              "<Figure size 432x288 with 1 Axes>"
            ]
          },
          "metadata": {
            "tags": [],
            "needs_background": "light"
          }
        }
      ]
    },
    {
      "cell_type": "code",
      "metadata": {
        "id": "6wMVOAq7rbWF",
        "colab_type": "code",
        "colab": {
          "base_uri": "https://localhost:8080/",
          "height": 317
        },
        "outputId": "591202f8-b414-4b54-f0c2-a3f2b34d49a6"
      },
      "source": [
        "w = svm_sgd_plot(X,y)\n",
        "#they decrease over time! Our SVM is learning the optimal hyperplane"
      ],
      "execution_count": 10,
      "outputs": [
        {
          "output_type": "stream",
          "text": [
            "/usr/local/lib/python3.6/dist-packages/ipykernel_launcher.py:31: MatplotlibDeprecationWarning: Adding an axes using the same arguments as a previous axes currently reuses the earlier instance.  In a future version, a new instance will always be created and returned.  Meanwhile, this warning can be suppressed, and the future behavior ensured, by passing a unique label to each axes instance.\n"
          ],
          "name": "stderr"
        },
        {
          "output_type": "display_data",
          "data": {
            "image/png": "[encoded data removed]",
            "text/plain": [
              "<Figure size 432x288 with 1 Axes>"
            ]
          },
          "metadata": {
            "tags": [],
            "needs_background": "light"
          }
        }
      ]
    },
    {
      "cell_type": "code",
      "metadata": {
        "id": "XuAVXfuMrdi6",
        "colab_type": "code",
        "colab": {}
      },
      "source": [
        ""
      ],
      "execution_count": 7,
      "outputs": []
    }
  ]
}